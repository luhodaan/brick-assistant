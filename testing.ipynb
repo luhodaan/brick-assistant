{
 "cells": [
  {
   "cell_type": "code",
   "execution_count": 4,
   "id": "24322ad1",
   "metadata": {},
   "outputs": [],
   "source": [
    "from langchain_community.graphs import RdfGraph\n",
    "from langchain_core.messages import AIMessage   \n",
    "\n",
    "g = RdfGraph(source_file=r\"data\\ttl_files\\bui_BCFS.ttl\", serialization=\"ttl\")"
   ]
  },
  {
   "cell_type": "code",
   "execution_count": 5,
   "id": "a2aa94dd",
   "metadata": {},
   "outputs": [
    {
     "name": "stdout",
     "output_type": "stream",
     "text": [
      "None\n"
     ]
    }
   ],
   "source": [
    "print(g.load_schema())"
   ]
  },
  {
   "cell_type": "code",
   "execution_count": 6,
   "id": "1b505427",
   "metadata": {},
   "outputs": [
    {
     "data": {
      "text/plain": [
       "'In the following, each IRI is followed by the local name and optionally its description in parentheses. \\nThe RDF graph supports the following node types:\\n<https://brickschema.org/schema/Brick#Building> (Building, None), <https://brickschema.org/schema/Brick#Zone> (Zone, None), <https://brickschema.org/schema/Brick#Zone_Air_Temperature_Sensor> (Zone_Air_Temperature_Sensor, None), <https://brickschema.org/schema/Brick#Outside_Air_Temperature_Sensor> (Outside_Air_Temperature_Sensor, None), <https://brickschema.org/schema/Brick#Meter> (Meter, None)\\nThe RDF graph supports the following relationships:\\n<https://brickschema.org/schema/Brick#value> (value, None), <https://brickschema.org/schema/Brick#isPointOf> (isPointOf, None), <https://brickschema.org/schema/Brick#feeds> (feeds, None), <http://www.w3.org/1999/02/22-rdf-syntax-ns#type> (type, None), <https://brickschema.org/schema/Brick#isPartOf> (isPartOf, None), <https://brickschema.org/schema/Brick#hasCoordinates> (hasCoordinates, None), <https://brickschema.org/schema/Brick#hasUUID> (hasUUID, None), <https://brickschema.org/schema/Brick#hasLocation> (hasLocation, None), <https://brickschema.org/schema/Brick#hasArea> (hasArea, None), <https://brickschema.org/schema/Brick#longitude> (longitude, None), <https://brickschema.org/schema/Brick#latitude> (latitude, None)\\n'"
      ]
     },
     "execution_count": 6,
     "metadata": {},
     "output_type": "execute_result"
    }
   ],
   "source": [
    "g.get_schema"
   ]
  },
  {
   "cell_type": "code",
   "execution_count": null,
   "id": "a0d0c0f3",
   "metadata": {},
   "outputs": [],
   "source": []
  }
 ],
 "metadata": {
  "kernelspec": {
   "display_name": "wuerth-agent",
   "language": "python",
   "name": "python3"
  },
  "language_info": {
   "codemirror_mode": {
    "name": "ipython",
    "version": 3
   },
   "file_extension": ".py",
   "mimetype": "text/x-python",
   "name": "python",
   "nbconvert_exporter": "python",
   "pygments_lexer": "ipython3",
   "version": "3.11.6"
  }
 },
 "nbformat": 4,
 "nbformat_minor": 5
}
