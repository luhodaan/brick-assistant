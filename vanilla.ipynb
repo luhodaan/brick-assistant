{
 "cells": [
  {
   "cell_type": "code",
   "execution_count": null,
   "id": "94b8dd2f",
   "metadata": {},
   "outputs": [],
   "source": [
    "import os\n",
    "os.getcwd()\n",
    "os.getenv(\"DATABASE_URI\")"
   ]
  },
  {
   "cell_type": "code",
   "execution_count": null,
   "id": "f7033dd9",
   "metadata": {},
   "outputs": [],
   "source": [
    "from compiled_graphs import wuerth_vanilla_graph_devRDF\n",
    "\n",
    "g = wuerth_vanilla_graph_devRDF"
   ]
  },
  {
   "cell_type": "code",
   "execution_count": null,
   "id": "525cd94d",
   "metadata": {},
   "outputs": [],
   "source": [
    "# Assumes you're in an interactive Python environment\n",
    "from IPython.display import Image, display\n",
    "\n",
    "display(Image(g.get_graph(xray=True).draw_mermaid_png()))"
   ]
  },
  {
   "cell_type": "code",
   "execution_count": null,
   "id": "f922ee2d",
   "metadata": {},
   "outputs": [],
   "source": [
    "config = {\"configurable\": {\"thread_id\": \"1\"}}"
   ]
  },
  {
   "cell_type": "code",
   "execution_count": null,
   "id": "1cf0972c",
   "metadata": {},
   "outputs": [],
   "source": [
    "question = \"\"\"what building has the smallest area\"\"\"\n",
    "for step in g.stream(\n",
    "    {\"messages\": [{\"role\": \"user\", \"content\": question}]},\n",
    "    config = config,\n",
    "    stream_mode=\"values\",\n",
    "):\n",
    "    step[\"messages\"][-1].pretty_print()"
   ]
  },
  {
   "cell_type": "code",
   "execution_count": null,
   "id": "addbc958",
   "metadata": {},
   "outputs": [],
   "source": [
    "# Instead of:\n",
    "input_data = {\"user_prompt\": \"Where is building bcfs located?\"}\n",
    "\n",
    "# Try:\n",
    "input_data = {\n",
    "    \"messages\": [{\"role\": \"user\", \"content\": \"Where is building bcfs located?\"}],\n",
    "    \"query_evaluation\": None  # or some default value\n",
    "}\n",
    "result = g.invoke(input_data)\n",
    "result"
   ]
  },
  {
   "cell_type": "code",
   "execution_count": null,
   "id": "b04952d0",
   "metadata": {},
   "outputs": [],
   "source": [
    "question = \"\"\"Can you give me the latest value of all the sensors you just found ?\"\"\"\n",
    "\n",
    "for step in g.agent.stream(\n",
    "    {\"messages\": [{\"role\": \"user\", \"content\": question}]},\n",
    "    config,\n",
    "    stream_mode=\"values\",\n",
    "):\n",
    "    step[\"messages\"][-1].pretty_print()"
   ]
  },
  {
   "cell_type": "code",
   "execution_count": null,
   "id": "52955603",
   "metadata": {},
   "outputs": [],
   "source": []
  }
 ],
 "metadata": {
  "kernelspec": {
   "display_name": "wuerth-agent",
   "language": "python",
   "name": "python3"
  },
  "language_info": {
   "codemirror_mode": {
    "name": "ipython",
    "version": 3
   },
   "file_extension": ".py",
   "mimetype": "text/x-python",
   "name": "python",
   "nbconvert_exporter": "python",
   "pygments_lexer": "ipython3",
   "version": "3.12.11"
  }
 },
 "nbformat": 4,
 "nbformat_minor": 5
}
